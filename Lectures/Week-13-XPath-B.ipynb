{
 "cells": [
  {
   "cell_type": "markdown",
   "metadata": {},
   "source": [
    "# XPath B\n",
    "\n",
    "Now that you have gotten a bit more comfortable with XPath queries, we're going to now explore how we can use a tool inside of Python to execute those queries.  There are many XPath tools out there, and there will always be differences in how individual parsers will work.  So expect to need time to acclimate yourself if you are switching to a different one.  You will have to test things out and adapt accordingly.\n",
    "\n",
    "For the purposes of our lesson here, we're going to use the XPath function within lxml's etree module.  This module works well and consistently over the years, but you may find that other packages will work similarly.\n",
    "\n",
    "I'm going to set this all up for you, so you can use this pattern without thinking too much about it.  But I will try and explain some of it as we go.  "
   ]
  },
  {
   "cell_type": "markdown",
   "metadata": {},
   "source": [
    "# The basic pattern\n",
    "\n",
    "The basic pattern that we will be exploring here is this:\n",
    "\n",
    "1. Read in the document\n",
    "2. Parse that object (either an IO object or string depending on your pattern) into a tree object.\n",
    "3. Apply you desired XPath things to that tree object.\n",
    "\n",
    "There will be one and only one way you'll need to do this class, but there are other methods out there that you'll see.  \n",
    "\n",
    "Our pattern for class will be:\n",
    "\n",
    "1. Read the XML file with `.read()` to read in the text as a big string.\n",
    "2. Pass that string the parsing method `.fromstring()` to parse into a tree object. (don't forget that you'll have to import this module)\n",
    "3. Use the `.xpath()` function on that tree object to execute xpath queries on it.\n",
    "\n",
    "## Step 0: import the lxml module\n",
    "\n",
    "``` python\n",
    "from lxml import etree\n",
    "```\n",
    "\n",
    "## Step 1: read in the file\n",
    "\n",
    "The `rb` read in mode is required because of the encoding issues.\n",
    "\n",
    "``` python\n",
    "infile =  open('YOURFILENAME.xml', 'rb')\n",
    "xml = infile.read() # this will be passed to the parser\n",
    "infile.close()\n",
    "```\n",
    "\n",
    "# Step 2: parse into a tree object\n",
    "\n",
    "I could call this variable name anything that I want, but we usually use `tree` as a convention to indicate that it is the entire XML tree and not a constituent node.  This is using the `.fromstring()` function from the lxml/etree, which will parse string text into a tree object.\n",
    "\n",
    "``` python \n",
    "tree = etree.fromstring(xml)\n",
    "```\n",
    "\n",
    "# Step 3: use the `.xpath()` on the tree object to execute an xpath query\n",
    "\n",
    "We'll be talking about namespaces in a later section.\n",
    "\n",
    "Example when there in no namespace happening:\n",
    "\n",
    "``` python\n",
    "results = tree.xpath('//elementwhatever/text()')\n",
    "```\n",
    "\n",
    "Example when there is a namespace schema to handle:\n",
    "\n",
    "``` python\n",
    "results = tree.xpath('//alias:elementwhatever/text()', namespaces={'alias': \"URL found in the document goes here\"})\n",
    "```\n",
    "\n",
    "Don't worry, this entire lesson is about unpacking more about step 3.\n",
    "\n",
    "# Our data source\n",
    "\n",
    "We'll be using an XML document of \"Hamlet\" by Shakespeare.  This is located in the hamlet-tei.xml file.  This is a proper XML file that uses the TEI schema.  https://en.wikipedia.org/wiki/Text_Encoding_Initiative  You will want to read this now so you can understand the basics of what's going on in this file.\n",
    "\n",
    "The data file has its own attribution, but I grabbed it as a material from this workshop: http://tei.it.ox.ac.uk/Talks/2015-08-maynooth\n",
    "\n",
    "Take some time exploring this file to better understand the structure.  There's no real need to do a full TEI tutorial for this lesson.  This lesson is not meant to be a tutorial on TEI, we're just using it as example data.\n",
    "\n",
    "This is a very brief description of the structure of the Hamlet file:\n",
    "\n",
    "* In `teiHeader`:\n",
    "    * `fileDesc` node contains information about the provenance of the file and content.\n",
    "    * `profileDesc/particDesc` node contains information on the characters in the play\n",
    "    * `profileDesc/settingDesc` node contains setting information for the play\n",
    "* In `text`:\n",
    "    * this contains nodes for each act, scene, and passage.\n",
    "    * each passage is in `sp` elements, with `@who` attributes representing the standardized ID for each speaker (those IDs are defined in the `particDesc` node.  The `speaker` reports out what the original text had for the speaker information, and the `l` elements have the individual lines.\n",
    "    \n",
    "There are other details that you will need to explore on you own to get a feel for things.\n",
    "\n",
    "For now, we're going to go ahead and read in our file and prepare our tree object.  You'll only need to do this once at the top of your script.  After that, you'll just be using the tree object."
   ]
  },
  {
   "cell_type": "code",
   "execution_count": 79,
   "metadata": {
    "collapsed": true
   },
   "outputs": [],
   "source": [
    "from lxml import etree\n",
    "\n",
    "infile =  open('hamlet-tei.xml', 'rb') # don't forget that rb in here\n",
    "xml = infile.read()\n",
    "infile.close()\n",
    "\n",
    "tree = etree.fromstring(xml)"
   ]
  },
  {
   "cell_type": "markdown",
   "metadata": {
    "collapsed": true
   },
   "source": [
    "# namespaces\n",
    "\n",
    "Most proper XML files have namespaces (there can be multiple) that you'll need to navigate.  As this is not a metadata or TEI course, I will not provide an extended discussion on what this is.\n",
    "\n",
    "We can see in line 4 of the document, which has the root element:  `<TEI xmlns=\"http://www.tei-c.org/ns/1.0\">`\n",
    "\n",
    "This is saying that the elements found in this root node belong to the TEI schema, with a URL to the schema definition.  This information is for the parsers that are trying to validate the schema to ensure that the XML conforms to the schema.  Programs such as Oxygen XML editor will do this.\n",
    "\n",
    "Sometimes it can be tricky to tell what the namespaces are for the elements, but you'll see this URL pop up again when we dig in and print out the elements.  That is often the clue that you need for how to handle the namespaces.\n",
    "\n",
    "The patterns from step 3 show you how to handle this, but keep on reading.  Right now, I want you to focus on the larger picture and just follow along with the pattern that I'm giving you.  The purpose and usage of the namespace will make more sense as you start using it.  For now, move on and use the pattern as I give it to you.\n",
    "\n",
    "We'll be talking about that namespace a ton, so the canonical pattern is to save that namespace dictionary as a variable that we can reference elsewhere.  We can same this now so we can reference it elsewhere.\n",
    "\n",
    "The namespace dictionary can have multiple namespaces declared, where the alias is the key (as a string) and the value is the URL (as a string) as seen in the file.  You may use any alias you would like for that namespace, but the URL must perfectly match what appears in the file.\n",
    "\n",
    "Provide as many alias: URL pairs as you need for your document.  Most namespaces have a canonical alias to use, which you should abide by when possible.\n"
   ]
  },
  {
   "cell_type": "code",
   "execution_count": 3,
   "metadata": {
    "collapsed": true
   },
   "outputs": [],
   "source": [
    "ns = {'tei': 'http://www.tei-c.org/ns/1.0'}"
   ]
  },
  {
   "cell_type": "markdown",
   "metadata": {},
   "source": [
    "# Evaluating an extraction query to get a single result\n",
    "\n",
    "Remember that all your previous queries all needed to end with an extraction function at the end.  This was likely either `/text()` to get the text of the element out, or `@attribute` to get some attribute text out.\n",
    "\n",
    "For example, `//a` would select all the `a` element nodes, but not yield the contents.  But `//a/text()` would give you the hyperlink text, and `//a/@href` would give you all the URLs for the hyperlinks.\n",
    "\n",
    "The reasons for this aren't always made clear by those GUI tools we were using.  However, the distinction between a selection and extraction query will be striking when using this tool in Python.  You **must** include an extraction statement in your query to get text content out.  Otherwise you'll be selecting elements, and nothing will appear useful in the list of results.\n",
    "\n",
    "As a start, we're going to run a query that will extract out a single result.  We're going to look up the standard name of Hamlet from his character data node.\n",
    "\n",
    "The xpath that we would want to use is `//person[@xml:id = \"F-ham-ham\"]/persName[@type = \"standard\"]/text()`, but we need to adapt this to our namespace.  Look back up to our `ns` dictionary and look at what we declared the alias to be.  We gave our TEI namespace schema an alias of `tei`, which means we need to provide this before each element name that we are referencing.  IMPORTANT! You only need to do this for element names, not for attribute values, content, or XPath functions.  Literally only for the element names, but for **every** element name. Even when you have multiple.\n",
    "\n",
    "So now our new XPath query with correct aliases will be:\n",
    "\n",
    "`//tei:person[@xml:id = \"F-ham-ham\"]/tei:persName[@type = \"standard\"]/text()`\n",
    "\n",
    "See those `tei:person` and `tei:persName`?  That's how you use that alias value.  It's `alias:element`.\n",
    "\n",
    "Let's put this together and see the results.\n",
    "\n"
   ]
  },
  {
   "cell_type": "code",
   "execution_count": 8,
   "metadata": {},
   "outputs": [
    {
     "name": "stdout",
     "output_type": "stream",
     "text": [
      "['Hamlet, son of the former king and nephew to the\\n                            present king']\n"
     ]
    }
   ],
   "source": [
    "print(tree.xpath('//tei:person[@xml:id = \"F-ham-ham\"]/tei:persName[@type = \"standard\"]/text()', namespaces = ns))"
   ]
  },
  {
   "cell_type": "markdown",
   "metadata": {},
   "source": [
    "Things to note: \n",
    "\n",
    "* I am using my alias here only for the elements, and that alias name matches what I have declared in my `ns` object.\n",
    "* I have `namespaces = ns` which will need to be in **each and every xpath query you run for this assignment**.\n",
    "* my xpath query is just a string\n",
    "* I've used double quotes in my xpath query, which means that I need to use single quotes to surround the string.\n",
    "* my results are coming back as a list with one element.  I know and expect there to be just a single result, but the results will always be coming back to you as a list.\n",
    "* that extra text is from a the newline in the XML file itself."
   ]
  },
  {
   "cell_type": "markdown",
   "metadata": {},
   "source": [
    "# Query to extract many results\n",
    "\n",
    "Let's adapt our previous result to find all the standard names for these characters.  We don't need to change much.  We need to take out the `@xml:id = \"F-ham-ham\"` that selected only Hamlet's node, and now it will select all the person nodes."
   ]
  },
  {
   "cell_type": "code",
   "execution_count": 11,
   "metadata": {},
   "outputs": [
    {
     "name": "stdout",
     "output_type": "stream",
     "text": [
      "['First Player', 'All', 'Ambassador', 'Player Prologue', 'Player Queen', 'Bernardo, sentinel', 'Norwegian Captain', 'First Clown', 'Fortinbras, Prince of ', 'Francisco, a soldier', 'Gentleman, courtier', 'Gentlemen', \"Father's Ghost, Ghost of Hamlet's\\n                            Father\", 'Guildenstern, courtier', 'Hamlet, son of the former king and nephew to the\\n                            present king', 'Horatio, friend to Hamlet', 'Claudius, King of Denmark', 'Laertes, son to Polonius', 'Lucianus', 'Marcellus, Officer', 'Messenger', 'Ophelia, daughter to Polonius', 'Osric, courtier', 'Second Clown', 'Polonius, Lord Chamberlain', 'Player King', 'Priest', 'Gertrude, Queen of Denmark and mother to\\n                            Hamlet', 'Rosencrantz, courtier', 'Reynaldo, servant to Polonius', 'Sailor', 'Servant', 'Voltemand, courtier']\n"
     ]
    }
   ],
   "source": [
    "results = tree.xpath('//tei:person/tei:persName[@type = \"standard\"]/text()', namespaces = ns)\n",
    "print(results)"
   ]
  },
  {
   "cell_type": "markdown",
   "metadata": {},
   "source": [
    "Now we have a list of results to play with!\n",
    "\n",
    "How many characters have standard names?"
   ]
  },
  {
   "cell_type": "code",
   "execution_count": 12,
   "metadata": {},
   "outputs": [
    {
     "name": "stdout",
     "output_type": "stream",
     "text": [
      "33\n"
     ]
    }
   ],
   "source": [
    "print(len(results))"
   ]
  },
  {
   "cell_type": "markdown",
   "metadata": {},
   "source": [
    "Loop through the names and normalize the spaces."
   ]
  },
  {
   "cell_type": "code",
   "execution_count": 15,
   "metadata": {},
   "outputs": [
    {
     "name": "stdout",
     "output_type": "stream",
     "text": [
      "First Player\n",
      "All\n",
      "Ambassador\n",
      "Player Prologue\n",
      "Player Queen\n",
      "Bernardo, sentinel\n",
      "Norwegian Captain\n",
      "First Clown\n",
      "Fortinbras, Prince of\n",
      "Francisco, a soldier\n",
      "Gentleman, courtier\n",
      "Gentlemen\n",
      "Father's Ghost, Ghost of Hamlet's Father\n",
      "Guildenstern, courtier\n",
      "Hamlet, son of the former king and nephew to the present king\n",
      "Horatio, friend to Hamlet\n",
      "Claudius, King of Denmark\n",
      "Laertes, son to Polonius\n",
      "Lucianus\n",
      "Marcellus, Officer\n",
      "Messenger\n",
      "Ophelia, daughter to Polonius\n",
      "Osric, courtier\n",
      "Second Clown\n",
      "Polonius, Lord Chamberlain\n",
      "Player King\n",
      "Priest\n",
      "Gertrude, Queen of Denmark and mother to Hamlet\n",
      "Rosencrantz, courtier\n",
      "Reynaldo, servant to Polonius\n",
      "Sailor\n",
      "Servant\n",
      "Voltemand, courtier\n"
     ]
    }
   ],
   "source": [
    "for name in results:\n",
    "    print(\" \".join(name.split()))"
   ]
  },
  {
   "cell_type": "markdown",
   "metadata": {},
   "source": [
    "# Profiling structures\n",
    "\n",
    "You can't be an expert in all schemas, so sometimes you need to use some tools in python to profile the data that you are working with.\n",
    "\n",
    "We can look inside the Hamlet person node and see that there are 4 reported variations:\n",
    "\n",
    "``` XML\n",
    "<persName type=\"form\">Ha.</persName>\n",
    "<persName type=\"form\">Ham.</persName>\n",
    "<persName type=\"form\">Hamlet.</persName>\n",
    "<persName type=\"form\">Hem.</persName>\n",
    "```\n",
    "\n",
    "But can we confirm that this really is the case?  Alternatively, what if we were the ones writing this data file and needed to fill this in?  Also, this doesn't include the counts, so we don't really know the distribution of these forms.  \n",
    "\n",
    "Let's write a query that finds all the speaker representations of Hamlet, and then runs the results through the couter tool that we've seen before.\n",
    "\n",
    "Here's our xpath to find all of Hamlet's passages:\n",
    "\n",
    "`//tei:sp[@who = \"#F-ham-ham\"]`\n",
    "\n",
    "Now find all the speaker elements in there.\n",
    "\n",
    "`//tei:sp[@who = \"#F-ham-ham\"]/tei:speaker`\n",
    "\n",
    "Now get all that text out!\n",
    "\n",
    "`//tei:sp[@who = \"#F-ham-ham\"]/tei:speaker/text()`"
   ]
  },
  {
   "cell_type": "code",
   "execution_count": 21,
   "metadata": {},
   "outputs": [
    {
     "name": "stdout",
     "output_type": "stream",
     "text": [
      "['Ham.', 'Ham.', 'Ham.', 'Ham.', 'Ham.', 'Ham.', 'Ham.', 'Ham.', 'Ham.', 'Ham.', 'Ham.', 'Ham.', 'Ham.', 'Ham.', 'Ham.', 'Ham.', 'Ham.', 'Ham.', 'Ham.', 'Ham.', 'Ham.', 'Ham.', 'Ham.', 'Ham.', 'Ham.', 'Ham.', 'Ham.', 'Ham.', 'Ham.', 'Ham.', 'Ham.', 'Ham.', 'Ham.', 'Ham.', 'Ham.', 'Ham.', 'Ham.', 'Ham.', 'Ham.', 'Ham.', 'Ham.', 'Ham.', 'Ham.', 'Ham.', 'Ham.', 'Ham.', 'Ham.', 'Ham.', 'Ham.', 'Ham.', 'Ham.', 'Ham.', 'Ham.', 'Ham.', 'Ham.', 'Ham.', 'Ham.', 'Ham.', 'Ham.', 'Ham.', 'Ham.', 'Ham.', 'Ham.', 'Ham.', 'Ham.', 'Ham.', 'Ham.', 'Ham.', 'Ham.', 'Ham.', 'Ham.', 'Ham.', 'Ham.', 'Ham.', 'Ham.', 'Ham.', 'Ham.', 'Ham.', 'Ham.', 'Ham.', 'Ham.', 'Ham.', 'Ham.', 'Ham.', 'Ham.', 'Ham.', 'Ham.', 'Ham.', 'Ham.', 'Ham.', 'Ham.', 'Ham.', 'Ham.', 'Ham.', 'Ham.', 'Ham.', 'Ham.', 'Ham.', 'Ham.', 'Ham.', 'Ham.', 'Ham.', 'Ham.', 'Ham.', 'Ham.', 'Ham.', 'Ham.', 'Ham.', 'Ham.', 'Ham.', 'Ham.', 'Ham.', 'Ham.', 'Ham.', 'Ham.', 'Ham.', 'Ham.', 'Ham.', 'Ham.', 'Ham.', 'Ha.', 'Ham.', 'Ham.', 'Ham.', 'Ham.', 'Ham.', 'Ham.', 'Ham.', 'Ham.', 'Ham.', 'Ham.', 'Ham.', 'Ham.', 'Ham.', 'Ham.', 'Ham.', 'Ham.', 'Ham.', 'Ham.', 'Ham.', 'Ham.', 'Ham.', 'Ham.', 'Ham.', 'Ham.', 'Ham.', 'Ham.', 'Ham.', 'Ham.', 'Ham.', 'Ham.', 'Ham.', 'Ham.', 'Ham.', 'Ha.', 'Ham.', 'Ham.', 'Ham.', 'Ham.', 'Ham.', 'Ham.', 'Ham.', 'Ham.', 'Ham.', 'Ham.', 'Ham.', 'Ham.', 'Ham.', 'Ham.', 'Ham.', 'Ham.', 'Ham.', 'Ham.', 'Ham.', 'Ham.', 'Ham.', 'Ham.', 'Ham.', 'Ham.', 'Ham.', 'Ham.', 'Ham.', 'Ham.', 'Ham.', 'Ham.', 'Ham.', 'Ham.', 'Ham.', 'Ham.', 'Ham.', 'Ham.', 'Ham.', 'Ham.', 'Ham.', 'Ham.', 'Ham.', 'Ham.', 'Ham.', 'Ham.', 'Ham.', 'Ham.', 'Ham.', 'Ham.', 'Ham.', 'Ham.', 'Ham.', 'Ham.', 'Ham.', 'Ham.', 'Ham.', 'Ham.', 'Ham.', 'Ham.', 'Ham.', 'Ham.', 'Ham.', 'Ham.', 'Ham.', 'Ham.', 'Ham.', 'Ham.', 'Ham.', 'Ham.', 'Ham.', 'Ham.', 'Ham.', 'Ham.', 'Ham.', 'Ham.', 'Ham.', 'Ham.', 'Ham.', 'Ham.', 'Ham.', 'Ham.', 'Ham.', 'Ham.', 'Ham.', 'Ham.', 'Ham.', 'Ham.', 'Ham.', 'Ham.', 'Ham.', 'Ham.', 'Ham.', 'Ham.', 'Ham.', 'Ham.', 'Ham.', 'Ham.', 'Ham.', 'Hamlet.', 'Ham.', 'Ham.', 'Ham.', 'Ham.', 'Ham.', 'Ham.', 'Ham.', 'Ham.', 'Ham.', 'Ham.', 'Ham.', 'Ham.', 'Ham.', 'Ham.', 'Ham.', 'Ham.', 'Ham.', 'Ham.', 'Ham.', 'Ham.', 'Ham.', 'Ham.', 'Ham.', 'Ham.', 'Ham.', 'Ham.', 'Ham.', 'Ham.', 'Ham.', 'Ham.', 'Ham.', 'Ham.', 'Ham.', 'Ham.', 'Ham.', 'Ham.', 'Ham.', 'Ham.', 'Ham.', 'Ham.', 'Ham.', 'Ham.', 'Hem.', 'Ham.', 'Ham.', 'Ham.', 'Ham.', 'Ham.', 'Ham.', 'Ham.', 'Ham.', 'Ham.', 'Ham.', 'Ham.', 'Ham.', 'Ham.', 'Ham.', 'Ham.', 'Ham.', 'Ham.', 'Ham.', 'Ham.', 'Ham.', 'Ham.', 'Ham.', 'Ham.', 'Ham.', 'Ham.', 'Ham.', 'Ham.', 'Ham.', 'Ham.', 'Ham.', 'Ham.', 'Ham.', 'Ham.', 'Ham.', 'Ham.', 'Ham.', 'Ham.', 'Ham.', 'Ham.', 'Ham.', 'Ham.', 'Ham.', 'Ham.', 'Ham.']\n",
      "340\n"
     ]
    }
   ],
   "source": [
    "results = tree.xpath('//tei:sp[@who = \"#F-ham-ham\"]/tei:speaker/text()', namespaces = ns)\n",
    "print(results)\n",
    "print(len(results))"
   ]
  },
  {
   "cell_type": "markdown",
   "metadata": {},
   "source": [
    "There's 340 of these, which would be super annoying to count by hand."
   ]
  },
  {
   "cell_type": "code",
   "execution_count": 22,
   "metadata": {},
   "outputs": [
    {
     "name": "stdout",
     "output_type": "stream",
     "text": [
      "Counter({'Ham.': 336, 'Ha.': 2, 'Hamlet.': 1, 'Hem.': 1})\n"
     ]
    }
   ],
   "source": [
    "from collections import Counter\n",
    "\n",
    "print(Counter(results))"
   ]
  },
  {
   "cell_type": "markdown",
   "metadata": {},
   "source": [
    "So now we know more about this data!  And in just a few lines of code."
   ]
  },
  {
   "cell_type": "markdown",
   "metadata": {},
   "source": [
    "# Selecting nodes\n",
    "\n",
    "Up to now, we've been focusing on the extraction of data.  However, this tool is much more powerful than that.  As we've discussed with other data structures in previous lectures, sometimes it can be really valuable to isolate the specific data granularity that you want.  Once you have those chunks isolated, you can drill down into them to get out information that you want.  We can do the same thing here.\n",
    "\n",
    "The value of being able to select just a node (instead of extracting information out of it) is that you can save that object node as a variable and apply xpath queries directly onto it.  Yes, we could always include that information in our original xpath if we were wanting a single value.  But sometimes we want more.\n",
    "\n",
    "However, when we can isolate a node we can run however many xpath queries we want on that node.  And this is why it is powerful.\n",
    "\n",
    "Some of the examples that we will be going through below could also be done with xpath functions, but those aren't always supported inside these packages.  Also, this lesson is meant to highlight brining in data into python.\n",
    "\n",
    "So with that said, let's explore this.\n",
    "\n",
    "You can easily select just the nodes for your query by omitting the extraction chunk of your query.\n",
    "\n",
    "We're curious about stage directions in speaker elements.  These directions have both text that we want and attribute values.  We could write this in two queries."
   ]
  },
  {
   "cell_type": "code",
   "execution_count": 23,
   "metadata": {
    "collapsed": true
   },
   "outputs": [],
   "source": [
    "stagedirtype = tree.xpath('//tei:sp/tei:stage/@type', namespaces=ns)"
   ]
  },
  {
   "cell_type": "code",
   "execution_count": 24,
   "metadata": {
    "collapsed": true
   },
   "outputs": [],
   "source": [
    "stagedirtext = tree.xpath('//tei:sp/tei:stage/text()', namespaces=ns)"
   ]
  },
  {
   "cell_type": "code",
   "execution_count": 25,
   "metadata": {},
   "outputs": [
    {
     "name": "stdout",
     "output_type": "stream",
     "text": [
      "30\n",
      "33\n"
     ]
    }
   ],
   "source": [
    "print(len(stagedirtype))\n",
    "print(len(stagedirtext))"
   ]
  },
  {
   "cell_type": "markdown",
   "metadata": {
    "collapsed": true
   },
   "source": [
    "Hmmm, so if we did this with two queries, we can see that there are differing length results.  This means that the results don't line up via positions, and there aren't ways that I can predict or know by just looking at the content.  So doing this as two separate passes won't work.\n",
    "\n",
    "And indeed, there are some stage elements that do not have type attributes.  Example:  `<stage rend=\"italic inline\">within.</stage>`\n",
    "\n",
    "Using this structure of gathering all the elements and then extracting the content allows us to navigate this kind of situation and provides protection when we might not expect that to be the case.\n",
    "\n",
    "Let's rewrite our query such that we only get stage elements that have the type attribute (of any value).  This time, we're only going to select the matching elements, and not extract anything.\n",
    "\n",
    "To check that an element contains an attribute value, we can place that attribute reference in the logical check area, but with no operators.  We can select and gather all the elements by omitting any extraction notations on the end."
   ]
  },
  {
   "cell_type": "code",
   "execution_count": 26,
   "metadata": {
    "collapsed": true
   },
   "outputs": [],
   "source": [
    "stagedirswithtype = tree.xpath('//tei:sp/tei:stage[@type]', namespaces=ns)"
   ]
  },
  {
   "cell_type": "code",
   "execution_count": 27,
   "metadata": {},
   "outputs": [
    {
     "data": {
      "text/plain": [
       "[<Element {http://www.tei-c.org/ns/1.0}stage at 0x10bf73808>,\n",
       " <Element {http://www.tei-c.org/ns/1.0}stage at 0x10bf73848>,\n",
       " <Element {http://www.tei-c.org/ns/1.0}stage at 0x10bf6fa08>,\n",
       " <Element {http://www.tei-c.org/ns/1.0}stage at 0x10bf738c8>,\n",
       " <Element {http://www.tei-c.org/ns/1.0}stage at 0x10bf73888>,\n",
       " <Element {http://www.tei-c.org/ns/1.0}stage at 0x10bf73988>,\n",
       " <Element {http://www.tei-c.org/ns/1.0}stage at 0x10bf739c8>,\n",
       " <Element {http://www.tei-c.org/ns/1.0}stage at 0x10bf73a08>,\n",
       " <Element {http://www.tei-c.org/ns/1.0}stage at 0x10bf73948>,\n",
       " <Element {http://www.tei-c.org/ns/1.0}stage at 0x10bf73a48>,\n",
       " <Element {http://www.tei-c.org/ns/1.0}stage at 0x10bf73908>,\n",
       " <Element {http://www.tei-c.org/ns/1.0}stage at 0x10bf73ac8>,\n",
       " <Element {http://www.tei-c.org/ns/1.0}stage at 0x10bf73a88>,\n",
       " <Element {http://www.tei-c.org/ns/1.0}stage at 0x10bf73b48>,\n",
       " <Element {http://www.tei-c.org/ns/1.0}stage at 0x10bf73b88>,\n",
       " <Element {http://www.tei-c.org/ns/1.0}stage at 0x10bf73bc8>,\n",
       " <Element {http://www.tei-c.org/ns/1.0}stage at 0x10bd34cc8>,\n",
       " <Element {http://www.tei-c.org/ns/1.0}stage at 0x10bf73b08>,\n",
       " <Element {http://www.tei-c.org/ns/1.0}stage at 0x10bd34b08>,\n",
       " <Element {http://www.tei-c.org/ns/1.0}stage at 0x10bd34a48>,\n",
       " <Element {http://www.tei-c.org/ns/1.0}stage at 0x10bd34b88>,\n",
       " <Element {http://www.tei-c.org/ns/1.0}stage at 0x10bd34bc8>,\n",
       " <Element {http://www.tei-c.org/ns/1.0}stage at 0x10bd34a88>,\n",
       " <Element {http://www.tei-c.org/ns/1.0}stage at 0x10bd34c48>,\n",
       " <Element {http://www.tei-c.org/ns/1.0}stage at 0x10bd347c8>,\n",
       " <Element {http://www.tei-c.org/ns/1.0}stage at 0x10bd34948>,\n",
       " <Element {http://www.tei-c.org/ns/1.0}stage at 0x10bd34848>,\n",
       " <Element {http://www.tei-c.org/ns/1.0}stage at 0x10bd34148>,\n",
       " <Element {http://www.tei-c.org/ns/1.0}stage at 0x10bd34a08>,\n",
       " <Element {http://www.tei-c.org/ns/1.0}stage at 0x10bd34988>]"
      ]
     },
     "execution_count": 27,
     "metadata": {},
     "output_type": "execute_result"
    }
   ],
   "source": [
    "stagedirswithtype"
   ]
  },
  {
   "cell_type": "markdown",
   "metadata": {},
   "source": [
    "And when we print this out, we don't see text.  We see that we are storing objects in memory that have a nice method of printing (because what would you print?). That's what that <> thing means around them.  We have Element objects stored, but we are getting the default string representation.  \n",
    "\n",
    "While this might look like an error, it is exactly what we want!\n",
    "\n",
    "We now have a list of objects, and we want to loop over them.  Well, we don't need anything fancy for that."
   ]
  },
  {
   "cell_type": "code",
   "execution_count": 29,
   "metadata": {},
   "outputs": [
    {
     "name": "stdout",
     "output_type": "stream",
     "text": [
      "<Element {http://www.tei-c.org/ns/1.0}stage at 0x10bf73808>\n",
      "<Element {http://www.tei-c.org/ns/1.0}stage at 0x10bf73848>\n",
      "<Element {http://www.tei-c.org/ns/1.0}stage at 0x10bf6fa08>\n",
      "<Element {http://www.tei-c.org/ns/1.0}stage at 0x10bf738c8>\n",
      "<Element {http://www.tei-c.org/ns/1.0}stage at 0x10bf73888>\n",
      "<Element {http://www.tei-c.org/ns/1.0}stage at 0x10bf73988>\n",
      "<Element {http://www.tei-c.org/ns/1.0}stage at 0x10bf739c8>\n",
      "<Element {http://www.tei-c.org/ns/1.0}stage at 0x10bf73a08>\n",
      "<Element {http://www.tei-c.org/ns/1.0}stage at 0x10bf73948>\n",
      "<Element {http://www.tei-c.org/ns/1.0}stage at 0x10bf73a48>\n",
      "<Element {http://www.tei-c.org/ns/1.0}stage at 0x10bf73908>\n",
      "<Element {http://www.tei-c.org/ns/1.0}stage at 0x10bf73ac8>\n",
      "<Element {http://www.tei-c.org/ns/1.0}stage at 0x10bf73a88>\n",
      "<Element {http://www.tei-c.org/ns/1.0}stage at 0x10bf73b48>\n",
      "<Element {http://www.tei-c.org/ns/1.0}stage at 0x10bf73b88>\n",
      "<Element {http://www.tei-c.org/ns/1.0}stage at 0x10bf73bc8>\n",
      "<Element {http://www.tei-c.org/ns/1.0}stage at 0x10bd34cc8>\n",
      "<Element {http://www.tei-c.org/ns/1.0}stage at 0x10bf73b08>\n",
      "<Element {http://www.tei-c.org/ns/1.0}stage at 0x10bd34b08>\n",
      "<Element {http://www.tei-c.org/ns/1.0}stage at 0x10bd34a48>\n",
      "<Element {http://www.tei-c.org/ns/1.0}stage at 0x10bd34b88>\n",
      "<Element {http://www.tei-c.org/ns/1.0}stage at 0x10bd34bc8>\n",
      "<Element {http://www.tei-c.org/ns/1.0}stage at 0x10bd34a88>\n",
      "<Element {http://www.tei-c.org/ns/1.0}stage at 0x10bd34c48>\n",
      "<Element {http://www.tei-c.org/ns/1.0}stage at 0x10bd347c8>\n",
      "<Element {http://www.tei-c.org/ns/1.0}stage at 0x10bd34948>\n",
      "<Element {http://www.tei-c.org/ns/1.0}stage at 0x10bd34848>\n",
      "<Element {http://www.tei-c.org/ns/1.0}stage at 0x10bd34148>\n",
      "<Element {http://www.tei-c.org/ns/1.0}stage at 0x10bd34a08>\n",
      "<Element {http://www.tei-c.org/ns/1.0}stage at 0x10bd34988>\n"
     ]
    }
   ],
   "source": [
    "for stageelem in stagedirswithtype:\n",
    "    print(stageelem)"
   ]
  },
  {
   "cell_type": "markdown",
   "metadata": {},
   "source": [
    "Just because they don't have a pretty print out doesn't mean that we're doing something wrong.  These objects all represent the stage elements that we selected, and can have xpath queries run directly on them.  \n",
    "\n",
    "Pretty much all your previous xpath query stuyy will work on them as normal, with one exception:  there is no root to handle here.  So whatever you run, it will be relevant to that element that you have selected.  Operationalizing this, it means that your xpath exressions don't need to start with / or //, and effectively only need to be the piece you would add on to an existing expression if you hadn't already selected them.\n",
    "\n",
    "Let's take an HTML example here.\n",
    "\n",
    "If I selected all a elements within a table with `//table//a`, but what I really wanted was the `href` attribute content, then my xpath query would only be `@href` because the element is already selected (as in, it's the object that I'm already iterating over).\n",
    "\n",
    "So now that we have our speaker elements, we want to loop over them to collect multiple pieces of information about them.  In this case, we want the speaker ID, what type of direction it is, and then what the text of the direction says.\n",
    "\n",
    "We'll build this up.  The easiest is adding the `@type` extraction onto this."
   ]
  },
  {
   "cell_type": "code",
   "execution_count": 36,
   "metadata": {},
   "outputs": [
    {
     "name": "stdout",
     "output_type": "stream",
     "text": [
      "['entrance']\n",
      "['entrance']\n",
      "['exit']\n",
      "['entrance']\n",
      "['exit']\n",
      "['entrance']\n",
      "['business']\n",
      "['business']\n",
      "['exit']\n",
      "['entrance']\n",
      "['exit']\n",
      "['entrance']\n",
      "['exit']\n",
      "['business']\n",
      "['entrance']\n",
      "['entrance']\n",
      "['entrance']\n",
      "['exit']\n",
      "['location']\n",
      "['entrance']\n",
      "['business']\n",
      "['business']\n",
      "['entrance']\n",
      "['exit']\n",
      "['business']\n",
      "['business']\n",
      "['business']\n",
      "['entrance']\n",
      "['business']\n",
      "['business']\n"
     ]
    }
   ],
   "source": [
    "for stage in stagedirswithtype:\n",
    "    print(stage.xpath('@type', namespaces = ns))"
   ]
  },
  {
   "cell_type": "code",
   "execution_count": 38,
   "metadata": {},
   "outputs": [
    {
     "name": "stdout",
     "output_type": "stream",
     "text": [
      "['entrance'] ['Enter the\\n                                Ghost.']\n",
      "['entrance'] ['Enter Ghost againe.']\n",
      "['exit'] ['Exit Ghost.']\n",
      "['entrance'] ['Enter Voltemand and\\n                                Cornelius.']\n",
      "['exit'] ['Exit Voltemand and\\n                                Cornelius.']\n",
      "['entrance'] ['Enter Polonius.']\n",
      "['business'] ['within.']\n",
      "['business'] ['The Letter.']\n",
      "['exit'] ['Exit King &\\n                                Queen.']\n",
      "['entrance'] ['Enter foure or fiue\\n                                Players.']\n",
      "['exit'] ['Exit Players.']\n",
      "['entrance'] ['Enter Polonius, Rosincrance,\\n                                and Guildensterne.']\n",
      "['exit'] ['Exit Polonius.']\n",
      "['business'] ['Sleepes']\n",
      "['entrance'] ['Enter Lucianus.']\n",
      "['entrance'] ['Enter one with a\\n                                Recorder.']\n",
      "['entrance'] ['Enter Ros. &\\n                                Guild.']\n",
      "['exit'] ['Exit Gent.']\n",
      "['location'] ['within.']\n",
      "['entrance'] ['Enter ', '.']\n",
      "['business'] ['A noise\\n                                within.']\n",
      "['business'] ['Reads the Letter.']\n",
      "['entrance'] ['Enter a Messenger.']\n",
      "['exit'] ['Exit Messenger']\n",
      "['business'] ['Sings.']\n",
      "['business'] ['sings.']\n",
      "['business'] ['sings.']\n",
      "['entrance'] ['Enter King, Queen, Laertes,\\n                                and a Coffin, ', 'with Lords attendant.']\n",
      "['business'] ['Leaps in the\\n                                graue.']\n",
      "['business'] ['March afarre off,\\n                                and shout within.']\n"
     ]
    }
   ],
   "source": [
    "for stage in stagedirswithtype:\n",
    "    print(stage.xpath('@type', namespaces = ns), stage.xpath('text()', namespaces = ns))"
   ]
  },
  {
   "cell_type": "markdown",
   "metadata": {},
   "source": [
    "We've got our two results now, but getting the person's ID might be trickier.  Well, not really, but it might look weird.  Remember that we have selected the stage elements, but the @who attribute is within the parent sp element that we didn't select.  \n",
    "\n",
    "That's the wonderful thing about this, these are element objects, and they know all about their parent elements.  We can use .. as the beginning of our query, just as if we were using it inside a longer xpath expression."
   ]
  },
  {
   "cell_type": "code",
   "execution_count": 39,
   "metadata": {},
   "outputs": [
    {
     "name": "stdout",
     "output_type": "stream",
     "text": [
      "['#F-ham-mar']\n",
      "['entrance'] ['Enter the\\n                                Ghost.']\n",
      "['#F-ham-hor']\n",
      "['entrance'] ['Enter Ghost againe.']\n",
      "['#F-ham-mar']\n",
      "['exit'] ['Exit Ghost.']\n",
      "['#F-ham-cla']\n",
      "['entrance'] ['Enter Voltemand and\\n                                Cornelius.']\n",
      "['#F-ham-cla']\n",
      "['exit'] ['Exit Voltemand and\\n                                Cornelius.']\n",
      "['#F-ham-lae']\n",
      "['entrance'] ['Enter Polonius.']\n",
      "['#F-ham-hor #F-ham-mar']\n",
      "['business'] ['within.']\n",
      "['#F-ham-pol']\n",
      "['business'] ['The Letter.']\n",
      "['#F-ham-pol']\n",
      "['exit'] ['Exit King &\\n                                Queen.']\n",
      "['#F-ham-ham']\n",
      "['entrance'] ['Enter foure or fiue\\n                                Players.']\n",
      "['#F-ham-ham']\n",
      "['exit'] ['Exit Players.']\n",
      "['#F-ham-ham']\n",
      "['entrance'] ['Enter Polonius, Rosincrance,\\n                                and Guildensterne.']\n",
      "['#F-ham-ham']\n",
      "['exit'] ['Exit Polonius.']\n",
      "['#F-ham-ger']\n",
      "['business'] ['Sleepes']\n",
      "['#F-ham-ham']\n",
      "['entrance'] ['Enter Lucianus.']\n",
      "['#F-ham-ham']\n",
      "['entrance'] ['Enter one with a\\n                                Recorder.']\n",
      "['#F-ham-cla']\n",
      "['entrance'] ['Enter Ros. &\\n                                Guild.']\n",
      "['#F-ham-cla']\n",
      "['exit'] ['Exit Gent.']\n",
      "['#F-ham-gmn']\n",
      "['location'] ['within.']\n",
      "['#F-ham-cla']\n",
      "['entrance'] ['Enter ', '.']\n",
      "['#F-ham-cla']\n",
      "['business'] ['A noise\\n                                within.']\n",
      "['#F-ham-sai']\n",
      "['business'] ['Reads the Letter.']\n",
      "['#F-ham-cla']\n",
      "['entrance'] ['Enter a Messenger.']\n",
      "['#F-ham-cla']\n",
      "['exit'] ['Exit Messenger']\n",
      "['#F-ham-clo.1']\n",
      "['business'] ['Sings.']\n",
      "['#F-ham-clo.1']\n",
      "['business'] ['sings.']\n",
      "['#F-ham-clo.1']\n",
      "['business'] ['sings.']\n",
      "['#F-ham-ham']\n",
      "['entrance'] ['Enter King, Queen, Laertes,\\n                                and a Coffin, ', 'with Lords attendant.']\n",
      "['#F-ham-lae']\n",
      "['business'] ['Leaps in the\\n                                graue.']\n",
      "['#F-ham-ham']\n",
      "['business'] ['March afarre off,\\n                                and shout within.']\n"
     ]
    }
   ],
   "source": [
    "for stage in stagedirswithtype:\n",
    "    print(stage.xpath('../@who', namespaces = ns))\n",
    "    print(stage.xpath('@type', namespaces = ns), stage.xpath('text()', namespaces = ns))"
   ]
  },
  {
   "cell_type": "markdown",
   "metadata": {},
   "source": [
    "# making the results pretty\n",
    "\n",
    "Now we've got a host of results, but the print is really ugly.  We can collect everything that we want into a single list for nice printing.  Remember that everything is inside of a list, so we need to extract out the results."
   ]
  },
  {
   "cell_type": "code",
   "execution_count": 48,
   "metadata": {},
   "outputs": [
    {
     "name": "stdout",
     "output_type": "stream",
     "text": [
      "['#F-ham-mar', 'entrance', 'Enter the Ghost.']\n",
      "['#F-ham-hor', 'entrance', 'Enter Ghost againe.']\n",
      "['#F-ham-mar', 'exit', 'Exit Ghost.']\n",
      "['#F-ham-cla', 'entrance', 'Enter Voltemand and Cornelius.']\n",
      "['#F-ham-cla', 'exit', 'Exit Voltemand and Cornelius.']\n",
      "['#F-ham-lae', 'entrance', 'Enter Polonius.']\n",
      "['#F-ham-hor #F-ham-mar', 'business', 'within.']\n",
      "['#F-ham-pol', 'business', 'The Letter.']\n",
      "['#F-ham-pol', 'exit', 'Exit King & Queen.']\n",
      "['#F-ham-ham', 'entrance', 'Enter foure or fiue Players.']\n",
      "['#F-ham-ham', 'exit', 'Exit Players.']\n",
      "['#F-ham-ham', 'entrance', 'Enter Polonius, Rosincrance, and Guildensterne.']\n",
      "['#F-ham-ham', 'exit', 'Exit Polonius.']\n",
      "['#F-ham-ger', 'business', 'Sleepes']\n",
      "['#F-ham-ham', 'entrance', 'Enter Lucianus.']\n",
      "['#F-ham-ham', 'entrance', 'Enter one with a Recorder.']\n",
      "['#F-ham-cla', 'entrance', 'Enter Ros. & Guild.']\n",
      "['#F-ham-cla', 'exit', 'Exit Gent.']\n",
      "['#F-ham-gmn', 'location', 'within.']\n",
      "['#F-ham-cla', 'entrance', 'Enter']\n",
      "['#F-ham-cla', 'business', 'A noise within.']\n",
      "['#F-ham-sai', 'business', 'Reads the Letter.']\n",
      "['#F-ham-cla', 'entrance', 'Enter a Messenger.']\n",
      "['#F-ham-cla', 'exit', 'Exit Messenger']\n",
      "['#F-ham-clo.1', 'business', 'Sings.']\n",
      "['#F-ham-clo.1', 'business', 'sings.']\n",
      "['#F-ham-clo.1', 'business', 'sings.']\n",
      "['#F-ham-ham', 'entrance', 'Enter King, Queen, Laertes, and a Coffin,']\n",
      "['#F-ham-lae', 'business', 'Leaps in the graue.']\n",
      "['#F-ham-ham', 'business', 'March afarre off, and shout within.']\n"
     ]
    }
   ],
   "source": [
    "for stage in stagedirswithtype:\n",
    "    results = []\n",
    "    who = stage.xpath('../@who', namespaces = ns)\n",
    "    dirtype = stage.xpath('@type', namespaces = ns)\n",
    "    dirtext = stage.xpath('text()', namespaces = ns)\n",
    "    results.append(who[0])\n",
    "    results.append(dirtype[0])\n",
    "    results.append(\" \".join(dirtext[0].split()))\n",
    "    print(results)"
   ]
  },
  {
   "cell_type": "markdown",
   "metadata": {},
   "source": [
    "This has all worked nicely because everything had at least one value, so we can hard code that [0] pretty safely. But this will not always we the case.  We can look up and see that one of the items has two speakers, and the XML authors chose to handle that by listing them both in the @who as \"#F-ham-hor #F-ham-mar\".  So there's still only 1 result in the sense that there's only one thing coming back to us with our query (because you can't repeat attributes in a single element). So they added both results to a single string and made that the single attribute's value.\n",
    "\n",
    "# Handling empty results\n",
    "\n",
    "This is fine for now.  We would need to accommodate our data model for this if we were really doing research here.\n",
    "\n",
    "However, we could take a look back to our original 33 results.  Not all of these had a type, right?  So what happens if our query has no results?  \n",
    "\n",
    "You get an empty list."
   ]
  },
  {
   "cell_type": "code",
   "execution_count": 50,
   "metadata": {},
   "outputs": [
    {
     "name": "stdout",
     "output_type": "stream",
     "text": [
      "[]\n"
     ]
    }
   ],
   "source": [
    "print(tree.xpath('tei:frogs/text()', namespaces=ns))"
   ]
  },
  {
   "cell_type": "markdown",
   "metadata": {},
   "source": [
    "How you want to handle this really depends on what you are after and your own business rules for the data that you are after.  Usually you can put in a little decision structure to check the length (or content if you need).  This is where your knowledge of the data will be very important.\n",
    "\n",
    "Let's use a function for checking that out results have only one item.  Otherwise, it will raise an error if it gets more, and fill in a missing value if there is nothing.\n",
    "\n",
    "Now, this function can't tell you WHY there is nothing, so again, know your data and test your code.\n",
    "\n",
    "Let's explore this function that I've prepared for you.  This actually has nothing to do with xpath at all, as the results that we get back will be purely as a list."
   ]
  },
  {
   "cell_type": "code",
   "execution_count": 84,
   "metadata": {
    "collapsed": true
   },
   "outputs": [],
   "source": [
    "def checkFor1Result(xpathresult, missing_value):\n",
    "    if len(xpathresult) > 1: # raise error if there are more than 1\n",
    "        howmany = len(xpathresult)\n",
    "        raise ValueError(\"Your list had \" + str(howmany) + \" items instead of 1. Shutting down the program,\"\n",
    "                         + \"But here's your failed result: \" + str(xpathresult))\n",
    "    elif len(xpathresult) == 1: \n",
    "        result = xpathresult[0] # send the single result back when there's just 1\n",
    "    else: # send the missing value back when there aren't any results\n",
    "        result = missing_value\n",
    "    return result"
   ]
  },
  {
   "cell_type": "code",
   "execution_count": 85,
   "metadata": {},
   "outputs": [
    {
     "ename": "ValueError",
     "evalue": "Your list had 2 items instead of 1. Shutting down the program,But here's your failed result: ['too', 'many']",
     "output_type": "error",
     "traceback": [
      "\u001b[0;31m---------------------------------------------------------------------------\u001b[0m",
      "\u001b[0;31mValueError\u001b[0m                                Traceback (most recent call last)",
      "\u001b[0;32m<ipython-input-85-ea46f41c19ff>\u001b[0m in \u001b[0;36m<module>\u001b[0;34m()\u001b[0m\n\u001b[1;32m      1\u001b[0m \u001b[0;31m# raises an error and halts the program if there are more than 1\u001b[0m\u001b[0;34m\u001b[0m\u001b[0;34m\u001b[0m\u001b[0m\n\u001b[0;32m----> 2\u001b[0;31m \u001b[0mprint\u001b[0m\u001b[0;34m(\u001b[0m\u001b[0mcheckFor1Result\u001b[0m\u001b[0;34m(\u001b[0m\u001b[0;34m[\u001b[0m\u001b[0;34m'too'\u001b[0m\u001b[0;34m,\u001b[0m \u001b[0;34m'many'\u001b[0m\u001b[0;34m]\u001b[0m\u001b[0;34m,\u001b[0m \u001b[0;34m'MissingResult'\u001b[0m\u001b[0;34m)\u001b[0m\u001b[0;34m)\u001b[0m\u001b[0;34m\u001b[0m\u001b[0m\n\u001b[0m",
      "\u001b[0;32m<ipython-input-84-3829f488dbc8>\u001b[0m in \u001b[0;36mcheckFor1Result\u001b[0;34m(xpathresult, missing_value)\u001b[0m\n\u001b[1;32m      3\u001b[0m         \u001b[0mhowmany\u001b[0m \u001b[0;34m=\u001b[0m \u001b[0mlen\u001b[0m\u001b[0;34m(\u001b[0m\u001b[0mxpathresult\u001b[0m\u001b[0;34m)\u001b[0m\u001b[0;34m\u001b[0m\u001b[0m\n\u001b[1;32m      4\u001b[0m         raise ValueError(\"Your list had \" + str(howmany) + \" items instead of 1. Shutting down the program,\"\n\u001b[0;32m----> 5\u001b[0;31m                          + \"But here's your failed result: \" + str(xpathresult))\n\u001b[0m\u001b[1;32m      6\u001b[0m     \u001b[0;32melif\u001b[0m \u001b[0mlen\u001b[0m\u001b[0;34m(\u001b[0m\u001b[0mxpathresult\u001b[0m\u001b[0;34m)\u001b[0m \u001b[0;34m==\u001b[0m \u001b[0;36m1\u001b[0m\u001b[0;34m:\u001b[0m\u001b[0;34m\u001b[0m\u001b[0m\n\u001b[1;32m      7\u001b[0m         \u001b[0mresult\u001b[0m \u001b[0;34m=\u001b[0m \u001b[0mxpathresult\u001b[0m\u001b[0;34m[\u001b[0m\u001b[0;36m0\u001b[0m\u001b[0;34m]\u001b[0m \u001b[0;31m# send the single result back when there's just 1\u001b[0m\u001b[0;34m\u001b[0m\u001b[0m\n",
      "\u001b[0;31mValueError\u001b[0m: Your list had 2 items instead of 1. Shutting down the program,But here's your failed result: ['too', 'many']"
     ]
    }
   ],
   "source": [
    "# raises an error and halts the program if there are more than 1\n",
    "print(checkFor1Result(['too', 'many'], 'MissingResult'))"
   ]
  },
  {
   "cell_type": "code",
   "execution_count": 86,
   "metadata": {},
   "outputs": [
    {
     "name": "stdout",
     "output_type": "stream",
     "text": [
      "yup\n"
     ]
    }
   ],
   "source": [
    "# passes the value through if there are exactly 1\n",
    "print(checkFor1Result(['yup'], 'MissingResult'))"
   ]
  },
  {
   "cell_type": "code",
   "execution_count": 87,
   "metadata": {},
   "outputs": [
    {
     "name": "stdout",
     "output_type": "stream",
     "text": [
      "MissingResult\n"
     ]
    }
   ],
   "source": [
    "# passes the missing result through if there's nothing.\n",
    "print(checkFor1Result([], 'MissingResult'))"
   ]
  },
  {
   "cell_type": "markdown",
   "metadata": {},
   "source": [
    "This function guarentees that you will have 1 and only 1 result coming back to you. \n",
    "\n",
    "Let's see this in action on all 33 stage elements."
   ]
  },
  {
   "cell_type": "code",
   "execution_count": 88,
   "metadata": {
    "collapsed": true
   },
   "outputs": [],
   "source": [
    "allstages = tree.xpath('//tei:sp/tei:stage', namespaces=ns)"
   ]
  },
  {
   "cell_type": "code",
   "execution_count": 89,
   "metadata": {},
   "outputs": [
    {
     "name": "stdout",
     "output_type": "stream",
     "text": [
      "['#F-ham-mar', 'entrance', 'Enter the Ghost.']\n",
      "['#F-ham-hor', 'entrance', 'Enter Ghost againe.']\n",
      "['#F-ham-mar', 'exit', 'Exit Ghost.']\n",
      "['#F-ham-cla', 'entrance', 'Enter Voltemand and Cornelius.']\n",
      "['#F-ham-cla', 'exit', 'Exit Voltemand and Cornelius.']\n",
      "['#F-ham-lae', 'entrance', 'Enter Polonius.']\n",
      "['#F-ham-hor #F-ham-mar', 'business', 'within.']\n",
      "['#F-ham-pol', 'business', 'The Letter.']\n",
      "['#F-ham-pol', 'exit', 'Exit King & Queen.']\n",
      "['#F-ham-ham', 'entrance', 'Enter foure or fiue Players.']\n",
      "['#F-ham-ham', 'exit', 'Exit Players.']\n",
      "['#F-ham-ham', 'entrance', 'Enter Polonius, Rosincrance, and Guildensterne.']\n",
      "['#F-ham-ham', 'exit', 'Exit Polonius.']\n",
      "['#F-ham-ger', 'business', 'Sleepes']\n",
      "['#F-ham-ham', 'entrance', 'Enter Lucianus.']\n",
      "['#F-ham-ham', 'entrance', 'Enter one with a Recorder.']\n",
      "['#F-ham-ham', 'MissingType', 'within.']\n",
      "['#F-ham-cla', 'entrance', 'Enter Ros. & Guild.']\n",
      "['#F-ham-cla', 'exit', 'Exit Gent.']\n",
      "['#F-ham-gmn', 'location', 'within.']\n"
     ]
    },
    {
     "ename": "ValueError",
     "evalue": "Your list had 7 items instead of 1. Shutting down the program,But here's your failed result: ['Enter ', '\\n                                    ', 'Rosincrane', '\\n                                    ', 'Rosincrance', '\\n                                ', '.']",
     "output_type": "error",
     "traceback": [
      "\u001b[0;31m---------------------------------------------------------------------------\u001b[0m",
      "\u001b[0;31mValueError\u001b[0m                                Traceback (most recent call last)",
      "\u001b[0;32m<ipython-input-89-0c19900e1d87>\u001b[0m in \u001b[0;36m<module>\u001b[0;34m()\u001b[0m\n\u001b[1;32m      6\u001b[0m     \u001b[0mresults\u001b[0m\u001b[0;34m.\u001b[0m\u001b[0mappend\u001b[0m\u001b[0;34m(\u001b[0m\u001b[0mcheckFor1Result\u001b[0m\u001b[0;34m(\u001b[0m\u001b[0mwho\u001b[0m\u001b[0;34m,\u001b[0m \u001b[0;34m'MissingWho'\u001b[0m\u001b[0;34m)\u001b[0m\u001b[0;34m)\u001b[0m\u001b[0;34m\u001b[0m\u001b[0m\n\u001b[1;32m      7\u001b[0m     \u001b[0mresults\u001b[0m\u001b[0;34m.\u001b[0m\u001b[0mappend\u001b[0m\u001b[0;34m(\u001b[0m\u001b[0mcheckFor1Result\u001b[0m\u001b[0;34m(\u001b[0m\u001b[0mdirtype\u001b[0m\u001b[0;34m,\u001b[0m \u001b[0;34m'MissingType'\u001b[0m\u001b[0;34m)\u001b[0m\u001b[0;34m)\u001b[0m\u001b[0;34m\u001b[0m\u001b[0m\n\u001b[0;32m----> 8\u001b[0;31m     \u001b[0mresults\u001b[0m\u001b[0;34m.\u001b[0m\u001b[0mappend\u001b[0m\u001b[0;34m(\u001b[0m\u001b[0;34m\" \"\u001b[0m\u001b[0;34m.\u001b[0m\u001b[0mjoin\u001b[0m\u001b[0;34m(\u001b[0m\u001b[0mcheckFor1Result\u001b[0m\u001b[0;34m(\u001b[0m\u001b[0mdirtext\u001b[0m\u001b[0;34m,\u001b[0m \u001b[0;34m'MissingText'\u001b[0m\u001b[0;34m)\u001b[0m\u001b[0;34m.\u001b[0m\u001b[0msplit\u001b[0m\u001b[0;34m(\u001b[0m\u001b[0;34m)\u001b[0m\u001b[0;34m)\u001b[0m\u001b[0;34m)\u001b[0m\u001b[0;34m\u001b[0m\u001b[0m\n\u001b[0m\u001b[1;32m      9\u001b[0m     \u001b[0mprint\u001b[0m\u001b[0;34m(\u001b[0m\u001b[0mresults\u001b[0m\u001b[0;34m)\u001b[0m\u001b[0;34m\u001b[0m\u001b[0m\n",
      "\u001b[0;32m<ipython-input-84-3829f488dbc8>\u001b[0m in \u001b[0;36mcheckFor1Result\u001b[0;34m(xpathresult, missing_value)\u001b[0m\n\u001b[1;32m      3\u001b[0m         \u001b[0mhowmany\u001b[0m \u001b[0;34m=\u001b[0m \u001b[0mlen\u001b[0m\u001b[0;34m(\u001b[0m\u001b[0mxpathresult\u001b[0m\u001b[0;34m)\u001b[0m\u001b[0;34m\u001b[0m\u001b[0m\n\u001b[1;32m      4\u001b[0m         raise ValueError(\"Your list had \" + str(howmany) + \" items instead of 1. Shutting down the program,\"\n\u001b[0;32m----> 5\u001b[0;31m                          + \"But here's your failed result: \" + str(xpathresult))\n\u001b[0m\u001b[1;32m      6\u001b[0m     \u001b[0;32melif\u001b[0m \u001b[0mlen\u001b[0m\u001b[0;34m(\u001b[0m\u001b[0mxpathresult\u001b[0m\u001b[0;34m)\u001b[0m \u001b[0;34m==\u001b[0m \u001b[0;36m1\u001b[0m\u001b[0;34m:\u001b[0m\u001b[0;34m\u001b[0m\u001b[0m\n\u001b[1;32m      7\u001b[0m         \u001b[0mresult\u001b[0m \u001b[0;34m=\u001b[0m \u001b[0mxpathresult\u001b[0m\u001b[0;34m[\u001b[0m\u001b[0;36m0\u001b[0m\u001b[0;34m]\u001b[0m \u001b[0;31m# send the single result back when there's just 1\u001b[0m\u001b[0;34m\u001b[0m\u001b[0m\n",
      "\u001b[0;31mValueError\u001b[0m: Your list had 7 items instead of 1. Shutting down the program,But here's your failed result: ['Enter ', '\\n                                    ', 'Rosincrane', '\\n                                    ', 'Rosincrance', '\\n                                ', '.']"
     ]
    }
   ],
   "source": [
    "for stage in allstages:\n",
    "    results = []\n",
    "    who = stage.xpath('../@who', namespaces = ns)\n",
    "    dirtype = stage.xpath('@type', namespaces = ns)\n",
    "    dirtext = stage.xpath('.//text()', namespaces = ns)\n",
    "    results.append(checkFor1Result(who, 'MissingWho'))\n",
    "    results.append(checkFor1Result(dirtype, 'MissingType'))\n",
    "    results.append(\" \".join(checkFor1Result(dirtext, 'MissingText').split()))\n",
    "    print(results)"
   ]
  },
  {
   "cell_type": "markdown",
   "metadata": {},
   "source": [
    "Oh fun! We can see that we have an error that was hidden from us by our previous method.  This is becuase there's formatted text inside that element.  We can handle the results together before passing it to the function.  But remember that it must be a list!"
   ]
  },
  {
   "cell_type": "code",
   "execution_count": 90,
   "metadata": {},
   "outputs": [
    {
     "name": "stdout",
     "output_type": "stream",
     "text": [
      "['#F-ham-mar', 'entrance', 'Enter the Ghost.']\n",
      "['#F-ham-hor', 'entrance', 'Enter Ghost againe.']\n",
      "['#F-ham-mar', 'exit', 'Exit Ghost.']\n",
      "['#F-ham-cla', 'entrance', 'Enter Voltemand and Cornelius.']\n",
      "['#F-ham-cla', 'exit', 'Exit Voltemand and Cornelius.']\n",
      "['#F-ham-lae', 'entrance', 'Enter Polonius.']\n",
      "['#F-ham-hor #F-ham-mar', 'business', 'within.']\n",
      "['#F-ham-pol', 'business', 'The Letter.']\n",
      "['#F-ham-pol', 'exit', 'Exit King & Queen.']\n",
      "['#F-ham-ham', 'entrance', 'Enter foure or fiue Players.']\n",
      "['#F-ham-ham', 'exit', 'Exit Players.']\n",
      "['#F-ham-ham', 'entrance', 'Enter Polonius, Rosincrance, and Guildensterne.']\n",
      "['#F-ham-ham', 'exit', 'Exit Polonius.']\n",
      "['#F-ham-ger', 'business', 'Sleepes']\n",
      "['#F-ham-ham', 'entrance', 'Enter Lucianus.']\n",
      "['#F-ham-ham', 'entrance', 'Enter one with a Recorder.']\n",
      "['#F-ham-ham', 'MissingType', 'within.']\n",
      "['#F-ham-cla', 'entrance', 'Enter Ros. & Guild.']\n",
      "['#F-ham-cla', 'exit', 'Exit Gent.']\n",
      "['#F-ham-gmn', 'location', 'within.']\n",
      "['#F-ham-cla', 'entrance', 'Enter Rosincrane Rosincrance .']\n",
      "['#F-ham-cla', 'business', 'A noise within.']\n",
      "['#F-ham-sai', 'business', 'Reads the Letter.']\n",
      "['#F-ham-cla', 'entrance', 'Enter a Messenger.']\n",
      "['#F-ham-cla', 'exit', 'Exit Messenger']\n",
      "['#F-ham-clo.1', 'business', 'Sings.']\n",
      "['#F-ham-clo.1', 'business', 'sings.']\n",
      "['#F-ham-clo.1', 'business', 'sings.']\n",
      "['#F-ham-ham', 'entrance', 'Enter King, Queen, Laertes, and a Coffin, with Lords attendant.']\n",
      "['#F-ham-lae', 'business', 'Leaps in the graue.']\n",
      "['#F-ham-ham', 'business', 'March afarre off, and shout within.']\n"
     ]
    }
   ],
   "source": [
    "for stage in allstages:\n",
    "    results = []\n",
    "    who = stage.xpath('../@who', namespaces = ns)\n",
    "    dirtype = stage.xpath('@type', namespaces = ns)\n",
    "    dirtext = stage.xpath('.//text()', namespaces = ns)\n",
    "    results.append(checkFor1Result(who, 'MissingWho'))\n",
    "    results.append(checkFor1Result(dirtype, 'MissingType'))\n",
    "    results.append(\" \".join(checkFor1Result([\" \".join(dirtext)], 'MissingText').split()))\n",
    "    print(results)"
   ]
  },
  {
   "cell_type": "markdown",
   "metadata": {},
   "source": [
    "This in coming from this item on line 5934:\n",
    "\n",
    "``` XML\n",
    "<stage rend=\"italic center\" type=\"entrance\">Enter <choice>\n",
    "                                    <orig>Rosincrane</orig>\n",
    "                                    <corr>Rosincrance</corr>\n",
    "                                </choice>.</stage>\n",
    "```"
   ]
  },
  {
   "cell_type": "markdown",
   "metadata": {},
   "source": [
    "If we were really wanting to do something with this, we would want to deal with that.  But we aren't, so we can let it go."
   ]
  },
  {
   "cell_type": "markdown",
   "metadata": {},
   "source": [
    "# Exporting results\n",
    "\n",
    "Now that we have some nice tabular results, we can export this out to a file!\n",
    "\n",
    "We can use the CSV module to write out a nice CSV.  This will automatically sanitize our results for us.  You'll need to have two things:\n",
    "\n",
    "1. a list with the string values of the headers that you want (one string per header).\n",
    "    * `['speakerID', 'directionType', 'directionText']`\n",
    "2. a list of lists, where each list contains a single row of data. Each element will become a different column.\n",
    "    * we are already making our row lists, we just need to collect them."
   ]
  },
  {
   "cell_type": "code",
   "execution_count": 74,
   "metadata": {
    "collapsed": true
   },
   "outputs": [],
   "source": [
    "allresults = []\n",
    "\n",
    "for stage in allstages:\n",
    "    results = []\n",
    "    who = stage.xpath('../@who', namespaces = ns)\n",
    "    dirtype = stage.xpath('@type', namespaces = ns)\n",
    "    dirtext = stage.xpath('.//text()', namespaces = ns)\n",
    "    results.append(checkFor1Result(who, 'MissingWho'))\n",
    "    results.append(checkFor1Result(dirtype, 'MissingType'))\n",
    "    results.append(\" \".join(checkFor1Result([\" \".join(dirtext)], 'MissingText').split()))\n",
    "    allresults.append(results)"
   ]
  },
  {
   "cell_type": "code",
   "execution_count": 75,
   "metadata": {
    "collapsed": true
   },
   "outputs": [],
   "source": [
    "headers = ['speakerID', 'directionType', 'directionText']"
   ]
  },
  {
   "cell_type": "code",
   "execution_count": 78,
   "metadata": {
    "collapsed": true
   },
   "outputs": [],
   "source": [
    "import csv\n",
    "\n",
    "outfile = open('stagedirections.csv', 'w')\n",
    "csvout = csv.writer(outfile)\n",
    "csvout.writerow(headers)\n",
    "csvout.writerows(allresults)\n"
   ]
  },
  {
   "cell_type": "markdown",
   "metadata": {},
   "source": [
    "And we're done!"
   ]
  },
  {
   "cell_type": "code",
   "execution_count": null,
   "metadata": {
    "collapsed": true
   },
   "outputs": [],
   "source": []
  }
 ],
 "metadata": {
  "kernelspec": {
   "display_name": "Python 3",
   "language": "python",
   "name": "python3"
  },
  "language_info": {
   "codemirror_mode": {
    "name": "ipython",
    "version": 3
   },
   "file_extension": ".py",
   "mimetype": "text/x-python",
   "name": "python",
   "nbconvert_exporter": "python",
   "pygments_lexer": "ipython3",
   "version": "3.6.1"
  }
 },
 "nbformat": 4,
 "nbformat_minor": 2
}
